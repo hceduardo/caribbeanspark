{
 "cells": [
  {
   "cell_type": "markdown",
   "metadata": {},
   "source": [
    "# Caribbean Spark\n",
    "\n",
    "### *Demonstration of in-memory distributed data processing with Apache Spark*\n",
    "PyCaribbean 2019"
   ]
  },
  {
   "cell_type": "code",
   "execution_count": 1,
   "metadata": {},
   "outputs": [],
   "source": [
    "# A SparkContext represents the connection to a Spark cluster\n",
    "\n",
    "import re\n",
    "from pyspark import SparkContext\n",
    "\n",
    "FILE=\"pycaribbean.html\"\n",
    "\n",
    "sc = SparkContext(\n",
    "    appName=\"PyCaribbeanWordCount\", \n",
    "    master=\"local[*]\")\\\n",
    ".getOrCreate()"
   ]
  },
  {
   "cell_type": "code",
   "execution_count": 2,
   "metadata": {},
   "outputs": [
    {
     "name": "stdout",
     "output_type": "stream",
     "text": [
      "['pycaribbean', '2019', 'santo', 'domingo', 'dominican'] \n",
      "\n",
      " <class 'pyspark.rdd.PipelinedRDD'> 8\n"
     ]
    }
   ],
   "source": [
    "# Parallelise the text file to Spark Workers as a Resilient Distributed Dataset\n",
    "\n",
    "linesRDD = sc.textFile(FILE, 8)  # set 8 partitions as local has 8 cores\n",
    "wordsRDD = linesRDD.flatMap(lambda line: re.findall(r'\\w+', line.lower()))\n",
    "print(wordsRDD.take(5), \"\\n\\n\", type(wordsRDD), wordsRDD.getNumPartitions())"
   ]
  },
  {
   "cell_type": "code",
   "execution_count": 3,
   "metadata": {},
   "outputs": [
    {
     "name": "stdout",
     "output_type": "stream",
     "text": [
      "[('pycaribbean', 1), ('2019', 1), ('santo', 1), ('domingo', 1), ('dominican', 1)] \n",
      "\n",
      " <class 'pyspark.rdd.PipelinedRDD'> 8\n"
     ]
    }
   ],
   "source": [
    "# RDD Transformation: Map\n",
    "\n",
    "wordsMap = wordsRDD.map(lambda word: (word, 1))\n",
    "print(wordsMap.take(5), \"\\n\\n\",\n",
    "      type(wordsMap), wordsMap.getNumPartitions())"
   ]
  },
  {
   "cell_type": "code",
   "execution_count": 4,
   "metadata": {},
   "outputs": [
    {
     "name": "stdout",
     "output_type": "stream",
     "text": [
      "[('python', 2), ('of', 16), ('16', 2), ('february', 2), ('book', 1)] \n",
      "\n",
      " <class 'pyspark.rdd.PipelinedRDD'> 8\n"
     ]
    }
   ],
   "source": [
    "# RDD Transformation: Reduce\n",
    "\n",
    "wordsReduce = wordsMap.reduceByKey(lambda a, b: a + b)\n",
    "print(wordsReduce.take(5), \"\\n\\n\", \n",
    "      type(wordsReduce), wordsReduce.getNumPartitions())"
   ]
  },
  {
   "cell_type": "code",
   "execution_count": 5,
   "metadata": {},
   "outputs": [
    {
     "name": "stdout",
     "output_type": "stream",
     "text": [
      "[('the', 27), ('of', 16), ('in', 9), ('and', 9), ('pycaribbean', 8)] \n",
      "\n",
      " <class 'list'>\n"
     ]
    }
   ],
   "source": [
    "# RDD Action: Collect to Spark Driver\n",
    "\n",
    "output = wordsReduce\\\n",
    "    .sortBy(lambda word_count: word_count[1],  ascending=False)\\\n",
    "    .collect()\n",
    "print(output[:5], \"\\n\\n\", type(output))"
   ]
  },
  {
   "cell_type": "code",
   "execution_count": 6,
   "metadata": {},
   "outputs": [],
   "source": [
    "sc.stop()"
   ]
  },
  {
   "cell_type": "code",
   "execution_count": null,
   "metadata": {},
   "outputs": [],
   "source": []
  }
 ],
 "metadata": {
  "kernelspec": {
   "display_name": "caribbeanspark",
   "language": "python",
   "name": "caribbeanspark"
  },
  "language_info": {
   "codemirror_mode": {
    "name": "ipython",
    "version": 3
   },
   "file_extension": ".py",
   "mimetype": "text/x-python",
   "name": "python",
   "nbconvert_exporter": "python",
   "pygments_lexer": "ipython3",
   "version": "3.7.0"
  }
 },
 "nbformat": 4,
 "nbformat_minor": 2
}
